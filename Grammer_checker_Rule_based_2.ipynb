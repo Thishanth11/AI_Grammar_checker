{
  "nbformat": 4,
  "nbformat_minor": 0,
  "metadata": {
    "colab": {
      "provenance": [],
      "gpuType": "T4",
      "authorship_tag": "ABX9TyMLeR0DwOOmyqxnELkyN1oy",
      "include_colab_link": true
    },
    "kernelspec": {
      "name": "python3",
      "display_name": "Python 3"
    },
    "language_info": {
      "name": "python"
    },
    "accelerator": "GPU"
  },
  "cells": [
    {
      "cell_type": "markdown",
      "metadata": {
        "id": "view-in-github",
        "colab_type": "text"
      },
      "source": [
        "<a href=\"https://colab.research.google.com/github/Thishanth11/AI_Grammar_checker/blob/main/Grammer_checker_Rule_based_2.ipynb\" target=\"_parent\"><img src=\"https://colab.research.google.com/assets/colab-badge.svg\" alt=\"Open In Colab\"/></a>"
      ]
    },
    {
      "cell_type": "code",
      "execution_count": 1,
      "metadata": {
        "id": "q6X6n6ZjK80d",
        "colab": {
          "base_uri": "https://localhost:8080/"
        },
        "outputId": "50967cf8-d091-41f2-da58-d216ac6a2881"
      },
      "outputs": [
        {
          "output_type": "stream",
          "name": "stdout",
          "text": [
            "Collecting indic-nlp-library\n",
            "  Downloading indic_nlp_library-0.92-py3-none-any.whl.metadata (5.7 kB)\n",
            "Collecting pyspellchecker\n",
            "  Downloading pyspellchecker-0.8.2-py3-none-any.whl.metadata (9.4 kB)\n",
            "Collecting sphinx-argparse (from indic-nlp-library)\n",
            "  Downloading sphinx_argparse-0.5.2-py3-none-any.whl.metadata (3.7 kB)\n",
            "Collecting sphinx-rtd-theme (from indic-nlp-library)\n",
            "  Downloading sphinx_rtd_theme-3.0.2-py2.py3-none-any.whl.metadata (4.4 kB)\n",
            "Collecting morfessor (from indic-nlp-library)\n",
            "  Downloading Morfessor-2.0.6-py3-none-any.whl.metadata (628 bytes)\n",
            "Requirement already satisfied: pandas in /usr/local/lib/python3.10/dist-packages (from indic-nlp-library) (2.2.2)\n",
            "Requirement already satisfied: numpy in /usr/local/lib/python3.10/dist-packages (from indic-nlp-library) (1.26.4)\n",
            "Requirement already satisfied: python-dateutil>=2.8.2 in /usr/local/lib/python3.10/dist-packages (from pandas->indic-nlp-library) (2.8.2)\n",
            "Requirement already satisfied: pytz>=2020.1 in /usr/local/lib/python3.10/dist-packages (from pandas->indic-nlp-library) (2024.2)\n",
            "Requirement already satisfied: tzdata>=2022.7 in /usr/local/lib/python3.10/dist-packages (from pandas->indic-nlp-library) (2024.2)\n",
            "Requirement already satisfied: sphinx>=5.1.0 in /usr/local/lib/python3.10/dist-packages (from sphinx-argparse->indic-nlp-library) (8.1.3)\n",
            "Requirement already satisfied: docutils>=0.19 in /usr/local/lib/python3.10/dist-packages (from sphinx-argparse->indic-nlp-library) (0.21.2)\n",
            "Collecting sphinxcontrib-jquery<5,>=4 (from sphinx-rtd-theme->indic-nlp-library)\n",
            "  Downloading sphinxcontrib_jquery-4.1-py2.py3-none-any.whl.metadata (2.6 kB)\n",
            "Requirement already satisfied: six>=1.5 in /usr/local/lib/python3.10/dist-packages (from python-dateutil>=2.8.2->pandas->indic-nlp-library) (1.17.0)\n",
            "Requirement already satisfied: sphinxcontrib-applehelp>=1.0.7 in /usr/local/lib/python3.10/dist-packages (from sphinx>=5.1.0->sphinx-argparse->indic-nlp-library) (2.0.0)\n",
            "Requirement already satisfied: sphinxcontrib-devhelp>=1.0.6 in /usr/local/lib/python3.10/dist-packages (from sphinx>=5.1.0->sphinx-argparse->indic-nlp-library) (2.0.0)\n",
            "Requirement already satisfied: sphinxcontrib-htmlhelp>=2.0.6 in /usr/local/lib/python3.10/dist-packages (from sphinx>=5.1.0->sphinx-argparse->indic-nlp-library) (2.1.0)\n",
            "Requirement already satisfied: sphinxcontrib-jsmath>=1.0.1 in /usr/local/lib/python3.10/dist-packages (from sphinx>=5.1.0->sphinx-argparse->indic-nlp-library) (1.0.1)\n",
            "Requirement already satisfied: sphinxcontrib-qthelp>=1.0.6 in /usr/local/lib/python3.10/dist-packages (from sphinx>=5.1.0->sphinx-argparse->indic-nlp-library) (2.0.0)\n",
            "Requirement already satisfied: sphinxcontrib-serializinghtml>=1.1.9 in /usr/local/lib/python3.10/dist-packages (from sphinx>=5.1.0->sphinx-argparse->indic-nlp-library) (2.0.0)\n",
            "Requirement already satisfied: Jinja2>=3.1 in /usr/local/lib/python3.10/dist-packages (from sphinx>=5.1.0->sphinx-argparse->indic-nlp-library) (3.1.4)\n",
            "Requirement already satisfied: Pygments>=2.17 in /usr/local/lib/python3.10/dist-packages (from sphinx>=5.1.0->sphinx-argparse->indic-nlp-library) (2.18.0)\n",
            "Requirement already satisfied: snowballstemmer>=2.2 in /usr/local/lib/python3.10/dist-packages (from sphinx>=5.1.0->sphinx-argparse->indic-nlp-library) (2.2.0)\n",
            "Requirement already satisfied: babel>=2.13 in /usr/local/lib/python3.10/dist-packages (from sphinx>=5.1.0->sphinx-argparse->indic-nlp-library) (2.16.0)\n",
            "Requirement already satisfied: alabaster>=0.7.14 in /usr/local/lib/python3.10/dist-packages (from sphinx>=5.1.0->sphinx-argparse->indic-nlp-library) (1.0.0)\n",
            "Requirement already satisfied: imagesize>=1.3 in /usr/local/lib/python3.10/dist-packages (from sphinx>=5.1.0->sphinx-argparse->indic-nlp-library) (1.4.1)\n",
            "Requirement already satisfied: requests>=2.30.0 in /usr/local/lib/python3.10/dist-packages (from sphinx>=5.1.0->sphinx-argparse->indic-nlp-library) (2.32.3)\n",
            "Requirement already satisfied: packaging>=23.0 in /usr/local/lib/python3.10/dist-packages (from sphinx>=5.1.0->sphinx-argparse->indic-nlp-library) (24.2)\n",
            "Requirement already satisfied: tomli>=2 in /usr/local/lib/python3.10/dist-packages (from sphinx>=5.1.0->sphinx-argparse->indic-nlp-library) (2.2.1)\n",
            "Requirement already satisfied: MarkupSafe>=2.0 in /usr/local/lib/python3.10/dist-packages (from Jinja2>=3.1->sphinx>=5.1.0->sphinx-argparse->indic-nlp-library) (3.0.2)\n",
            "Requirement already satisfied: charset-normalizer<4,>=2 in /usr/local/lib/python3.10/dist-packages (from requests>=2.30.0->sphinx>=5.1.0->sphinx-argparse->indic-nlp-library) (3.4.0)\n",
            "Requirement already satisfied: idna<4,>=2.5 in /usr/local/lib/python3.10/dist-packages (from requests>=2.30.0->sphinx>=5.1.0->sphinx-argparse->indic-nlp-library) (3.10)\n",
            "Requirement already satisfied: urllib3<3,>=1.21.1 in /usr/local/lib/python3.10/dist-packages (from requests>=2.30.0->sphinx>=5.1.0->sphinx-argparse->indic-nlp-library) (2.2.3)\n",
            "Requirement already satisfied: certifi>=2017.4.17 in /usr/local/lib/python3.10/dist-packages (from requests>=2.30.0->sphinx>=5.1.0->sphinx-argparse->indic-nlp-library) (2024.12.14)\n",
            "Downloading indic_nlp_library-0.92-py3-none-any.whl (40 kB)\n",
            "\u001b[2K   \u001b[90m━━━━━━━━━━━━━━━━━━━━━━━━━━━━━━━━━━━━━━━━\u001b[0m \u001b[32m40.3/40.3 kB\u001b[0m \u001b[31m2.9 MB/s\u001b[0m eta \u001b[36m0:00:00\u001b[0m\n",
            "\u001b[?25hDownloading pyspellchecker-0.8.2-py3-none-any.whl (7.1 MB)\n",
            "\u001b[2K   \u001b[90m━━━━━━━━━━━━━━━━━━━━━━━━━━━━━━━━━━━━━━━━\u001b[0m \u001b[32m7.1/7.1 MB\u001b[0m \u001b[31m32.5 MB/s\u001b[0m eta \u001b[36m0:00:00\u001b[0m\n",
            "\u001b[?25hDownloading Morfessor-2.0.6-py3-none-any.whl (35 kB)\n",
            "Downloading sphinx_argparse-0.5.2-py3-none-any.whl (12 kB)\n",
            "Downloading sphinx_rtd_theme-3.0.2-py2.py3-none-any.whl (7.7 MB)\n",
            "\u001b[2K   \u001b[90m━━━━━━━━━━━━━━━━━━━━━━━━━━━━━━━━━━━━━━━━\u001b[0m \u001b[32m7.7/7.7 MB\u001b[0m \u001b[31m11.2 MB/s\u001b[0m eta \u001b[36m0:00:00\u001b[0m\n",
            "\u001b[?25hDownloading sphinxcontrib_jquery-4.1-py2.py3-none-any.whl (121 kB)\n",
            "\u001b[2K   \u001b[90m━━━━━━━━━━━━━━━━━━━━━━━━━━━━━━━━━━━━━━━━\u001b[0m \u001b[32m121.1/121.1 kB\u001b[0m \u001b[31m6.9 MB/s\u001b[0m eta \u001b[36m0:00:00\u001b[0m\n",
            "\u001b[?25hInstalling collected packages: morfessor, pyspellchecker, sphinxcontrib-jquery, sphinx-argparse, sphinx-rtd-theme, indic-nlp-library\n",
            "Successfully installed indic-nlp-library-0.92 morfessor-2.0.6 pyspellchecker-0.8.2 sphinx-argparse-0.5.2 sphinx-rtd-theme-3.0.2 sphinxcontrib-jquery-4.1\n"
          ]
        }
      ],
      "source": [
        "!pip install indic-nlp-library pyspellchecker\n",
        "\n",
        "from indicnlp.tokenize import indic_tokenize\n",
        "from spellchecker import SpellChecker\n",
        "\n",
        "# Tokenizer for Tamil text\n",
        "def tokenize_tamil_text(text):\n",
        "    return list(indic_tokenize.trivial_tokenize(text, lang='ta'))\n",
        "\n",
        "# Function to detect and correct Word Order Issues\n",
        "def check_word_order(sentence):\n",
        "    words = tokenize_tamil_text(sentence)\n",
        "    if \"நான்\" in words and words.index(\"நான்\") > words.index(\"புத்தகம்\"):\n",
        "        corrected = \" \".join([\"நான்\", \"புத்தகம்\", \"வாங்கினேன்.\"])\n",
        "        return corrected\n",
        "    return sentence"
      ]
    },
    {
      "cell_type": "code",
      "source": [
        "# Function to check and correct Subject-Verb Agreement Errors\n",
        "def check_subject_verb_agreement(sentence):\n",
        "    corrections = {\n",
        "        \"அவன் பள்ளி போகிறார்கள்\": \"அவன் பள்ளி போகிறான்\",\n",
        "        \"அவள் பள்ளி போகிறான்\": \"அவள் பள்ளி போகிறாள்\",\n",
        "        \"அவர்கள் பள்ளி போகிறான்\": \"அவர்கள் பள்ளி போகிறார்கள்\"\n",
        "    }\n",
        "    return corrections.get(sentence, sentence)\n"
      ],
      "metadata": {
        "id": "BS336INHMWij"
      },
      "execution_count": 2,
      "outputs": []
    },
    {
      "cell_type": "code",
      "source": [
        "# Combined grammar checker\n",
        "def grammar_checker(sentence):\n",
        "    step_1 = check_word_order(sentence)\n",
        "    step_2 = check_subject_verb_agreement(step_1)\n",
        "    return step_2\n",
        "\n",
        "# Spell checker for Tamil\n",
        "spell = SpellChecker(language=None)\n",
        "spell.word_frequency.load_words(['நான்', 'புத்தகம்', 'வாங்கினேன்', 'அவன்', 'போகிறான்', 'பார்த்து', 'வாங்கினேன', 'அவள்', 'போகிறார்கள்']) # Added potentially misspelled words to the dictionary\n",
        "\n",
        "def check_spelling(sentence):\n",
        "    words = tokenize_tamil_text(sentence)\n",
        "    corrected_words = [spell.correction(word) or word for word in words]\n",
        "    return \" \".join(corrected_words)"
      ],
      "metadata": {
        "id": "Y_TbLJYVMdsd"
      },
      "execution_count": 9,
      "outputs": []
    },
    {
      "cell_type": "code",
      "source": [
        "# Full pipeline for user input\n",
        "def evaluate_sentence(sentence):\n",
        "    # Step 1: Correct spelling\n",
        "    spell_corrected = check_spelling(sentence)\n",
        "    # Step 2: Apply grammar rules\n",
        "    grammar_corrected = grammar_checker(spell_corrected)\n",
        "    return grammar_corrected\n"
      ],
      "metadata": {
        "id": "BekJEV1dMquQ"
      },
      "execution_count": 10,
      "outputs": []
    },
    {
      "cell_type": "code",
      "source": [
        "# Ground truth data for evaluation\n",
        "test_sentences = [\n",
        "    \"பார்த்து நான் புத்தகம் வாங்கினேன்.\",\n",
        "    \"அவன் பள்ளி போகிறார்கள்.\",\n",
        "    \"நான் புத்தகம் வாங்கினேன.\",\n",
        "    \"அவள் பள்ளி போகிறான்.\",\n",
        "    \"புத்தகம் வாங்கினேன் நான்.\"\n",
        "]\n",
        "\n",
        "ground_truth = [\n",
        "    \"நான் புத்தகம் வாங்கினேன்.\",\n",
        "    \"அவன் பள்ளி போகிறான்.\",\n",
        "    \"நான் புத்தகம் வாங்கினேன்.\",\n",
        "    \"அவள் பள்ளி போகிறாள்.\",\n",
        "    \"நான் புத்தகம் வாங்கினேன்.\"\n",
        "]\n",
        "\n"
      ],
      "metadata": {
        "id": "Do-mXtj8Mwjb"
      },
      "execution_count": 11,
      "outputs": []
    },
    {
      "cell_type": "code",
      "source": [
        "# Evaluate accuracy\n",
        "corrected_sentences = [evaluate_sentence(sentence) for sentence in test_sentences]\n",
        "accuracy = sum([1 for corrected, truth in zip(corrected_sentences, ground_truth) if corrected == truth]) / len(ground_truth) * 100\n",
        "\n",
        "# Print evaluation results\n",
        "print(\"Model Accuracy: {:.2f}%\".format(accuracy))\n",
        "\n"
      ],
      "metadata": {
        "colab": {
          "base_uri": "https://localhost:8080/"
        },
        "id": "7EUjG6bgM8zg",
        "outputId": "8df3d858-b093-41f6-bbc5-b5d071f56588"
      },
      "execution_count": 12,
      "outputs": [
        {
          "output_type": "stream",
          "name": "stdout",
          "text": [
            "Model Accuracy: 20.00%\n"
          ]
        }
      ]
    },
    {
      "cell_type": "code",
      "source": [
        "# User input\n",
        "user_sentence = input(\"Enter a Tamil sentence for grammar checking: \")\n",
        "corrected_user_sentence = evaluate_sentence(user_sentence)\n",
        "print(\"Corrected Sentence:\", corrected_user_sentence)"
      ],
      "metadata": {
        "colab": {
          "base_uri": "https://localhost:8080/"
        },
        "id": "JM70MyNFOOdb",
        "outputId": "f2e75021-4d03-48cc-dd54-289c2fce0306"
      },
      "execution_count": 13,
      "outputs": [
        {
          "output_type": "stream",
          "name": "stdout",
          "text": [
            "Enter a Tamil sentence for grammar checking: பார்த்து நான் புத்தகம் வாங்கினேன.\n",
            "Corrected Sentence: பார்த்து நான் புத்தகம் வாங்கினேன .\n"
          ]
        }
      ]
    }
  ]
}