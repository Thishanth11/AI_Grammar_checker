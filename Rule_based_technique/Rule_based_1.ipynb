{
  "nbformat": 4,
  "nbformat_minor": 0,
  "metadata": {
    "colab": {
      "provenance": []
    },
    "kernelspec": {
      "name": "python3",
      "display_name": "Python 3"
    },
    "language_info": {
      "name": "python"
    },
    "widgets": {
      "application/vnd.jupyter.widget-state+json": {
        "44d134da680d4dd09438d5fc5458f899": {
          "model_module": "@jupyter-widgets/controls",
          "model_name": "HBoxModel",
          "model_module_version": "1.5.0",
          "state": {
            "_dom_classes": [],
            "_model_module": "@jupyter-widgets/controls",
            "_model_module_version": "1.5.0",
            "_model_name": "HBoxModel",
            "_view_count": null,
            "_view_module": "@jupyter-widgets/controls",
            "_view_module_version": "1.5.0",
            "_view_name": "HBoxView",
            "box_style": "",
            "children": [
              "IPY_MODEL_838dd2ec01814a31b7c39ec6d3c649c0",
              "IPY_MODEL_53f2162d1cb84174b54794dbcfbf66f3",
              "IPY_MODEL_2cf8acf6b76749ca9eb993c2bbdbb70a"
            ],
            "layout": "IPY_MODEL_5fc2de28ab0c4d10bfd8cfdb0f31d3d6"
          }
        },
        "838dd2ec01814a31b7c39ec6d3c649c0": {
          "model_module": "@jupyter-widgets/controls",
          "model_name": "HTMLModel",
          "model_module_version": "1.5.0",
          "state": {
            "_dom_classes": [],
            "_model_module": "@jupyter-widgets/controls",
            "_model_module_version": "1.5.0",
            "_model_name": "HTMLModel",
            "_view_count": null,
            "_view_module": "@jupyter-widgets/controls",
            "_view_module_version": "1.5.0",
            "_view_name": "HTMLView",
            "description": "",
            "description_tooltip": null,
            "layout": "IPY_MODEL_2dc56390abbe4d40856677f717b5125a",
            "placeholder": "​",
            "style": "IPY_MODEL_2398aadf81b5497e9630c2ffcd6c5341",
            "value": "Downloading https://raw.githubusercontent.com/stanfordnlp/stanza-resources/main/resources_1.10.0.json: "
          }
        },
        "53f2162d1cb84174b54794dbcfbf66f3": {
          "model_module": "@jupyter-widgets/controls",
          "model_name": "FloatProgressModel",
          "model_module_version": "1.5.0",
          "state": {
            "_dom_classes": [],
            "_model_module": "@jupyter-widgets/controls",
            "_model_module_version": "1.5.0",
            "_model_name": "FloatProgressModel",
            "_view_count": null,
            "_view_module": "@jupyter-widgets/controls",
            "_view_module_version": "1.5.0",
            "_view_name": "ProgressView",
            "bar_style": "success",
            "description": "",
            "description_tooltip": null,
            "layout": "IPY_MODEL_8528ddecdd294fca904bb541920aef21",
            "max": 52297,
            "min": 0,
            "orientation": "horizontal",
            "style": "IPY_MODEL_2023bc20eca3460b8f21e5638e13446e",
            "value": 52297
          }
        },
        "2cf8acf6b76749ca9eb993c2bbdbb70a": {
          "model_module": "@jupyter-widgets/controls",
          "model_name": "HTMLModel",
          "model_module_version": "1.5.0",
          "state": {
            "_dom_classes": [],
            "_model_module": "@jupyter-widgets/controls",
            "_model_module_version": "1.5.0",
            "_model_name": "HTMLModel",
            "_view_count": null,
            "_view_module": "@jupyter-widgets/controls",
            "_view_module_version": "1.5.0",
            "_view_name": "HTMLView",
            "description": "",
            "description_tooltip": null,
            "layout": "IPY_MODEL_b702ccbd5cd643579b534791b9703877",
            "placeholder": "​",
            "style": "IPY_MODEL_5ab080ca0bc74331ad7c5f259a893659",
            "value": " 421k/? [00:00&lt;00:00, 12.1MB/s]"
          }
        },
        "5fc2de28ab0c4d10bfd8cfdb0f31d3d6": {
          "model_module": "@jupyter-widgets/base",
          "model_name": "LayoutModel",
          "model_module_version": "1.2.0",
          "state": {
            "_model_module": "@jupyter-widgets/base",
            "_model_module_version": "1.2.0",
            "_model_name": "LayoutModel",
            "_view_count": null,
            "_view_module": "@jupyter-widgets/base",
            "_view_module_version": "1.2.0",
            "_view_name": "LayoutView",
            "align_content": null,
            "align_items": null,
            "align_self": null,
            "border": null,
            "bottom": null,
            "display": null,
            "flex": null,
            "flex_flow": null,
            "grid_area": null,
            "grid_auto_columns": null,
            "grid_auto_flow": null,
            "grid_auto_rows": null,
            "grid_column": null,
            "grid_gap": null,
            "grid_row": null,
            "grid_template_areas": null,
            "grid_template_columns": null,
            "grid_template_rows": null,
            "height": null,
            "justify_content": null,
            "justify_items": null,
            "left": null,
            "margin": null,
            "max_height": null,
            "max_width": null,
            "min_height": null,
            "min_width": null,
            "object_fit": null,
            "object_position": null,
            "order": null,
            "overflow": null,
            "overflow_x": null,
            "overflow_y": null,
            "padding": null,
            "right": null,
            "top": null,
            "visibility": null,
            "width": null
          }
        },
        "2dc56390abbe4d40856677f717b5125a": {
          "model_module": "@jupyter-widgets/base",
          "model_name": "LayoutModel",
          "model_module_version": "1.2.0",
          "state": {
            "_model_module": "@jupyter-widgets/base",
            "_model_module_version": "1.2.0",
            "_model_name": "LayoutModel",
            "_view_count": null,
            "_view_module": "@jupyter-widgets/base",
            "_view_module_version": "1.2.0",
            "_view_name": "LayoutView",
            "align_content": null,
            "align_items": null,
            "align_self": null,
            "border": null,
            "bottom": null,
            "display": null,
            "flex": null,
            "flex_flow": null,
            "grid_area": null,
            "grid_auto_columns": null,
            "grid_auto_flow": null,
            "grid_auto_rows": null,
            "grid_column": null,
            "grid_gap": null,
            "grid_row": null,
            "grid_template_areas": null,
            "grid_template_columns": null,
            "grid_template_rows": null,
            "height": null,
            "justify_content": null,
            "justify_items": null,
            "left": null,
            "margin": null,
            "max_height": null,
            "max_width": null,
            "min_height": null,
            "min_width": null,
            "object_fit": null,
            "object_position": null,
            "order": null,
            "overflow": null,
            "overflow_x": null,
            "overflow_y": null,
            "padding": null,
            "right": null,
            "top": null,
            "visibility": null,
            "width": null
          }
        },
        "2398aadf81b5497e9630c2ffcd6c5341": {
          "model_module": "@jupyter-widgets/controls",
          "model_name": "DescriptionStyleModel",
          "model_module_version": "1.5.0",
          "state": {
            "_model_module": "@jupyter-widgets/controls",
            "_model_module_version": "1.5.0",
            "_model_name": "DescriptionStyleModel",
            "_view_count": null,
            "_view_module": "@jupyter-widgets/base",
            "_view_module_version": "1.2.0",
            "_view_name": "StyleView",
            "description_width": ""
          }
        },
        "8528ddecdd294fca904bb541920aef21": {
          "model_module": "@jupyter-widgets/base",
          "model_name": "LayoutModel",
          "model_module_version": "1.2.0",
          "state": {
            "_model_module": "@jupyter-widgets/base",
            "_model_module_version": "1.2.0",
            "_model_name": "LayoutModel",
            "_view_count": null,
            "_view_module": "@jupyter-widgets/base",
            "_view_module_version": "1.2.0",
            "_view_name": "LayoutView",
            "align_content": null,
            "align_items": null,
            "align_self": null,
            "border": null,
            "bottom": null,
            "display": null,
            "flex": null,
            "flex_flow": null,
            "grid_area": null,
            "grid_auto_columns": null,
            "grid_auto_flow": null,
            "grid_auto_rows": null,
            "grid_column": null,
            "grid_gap": null,
            "grid_row": null,
            "grid_template_areas": null,
            "grid_template_columns": null,
            "grid_template_rows": null,
            "height": null,
            "justify_content": null,
            "justify_items": null,
            "left": null,
            "margin": null,
            "max_height": null,
            "max_width": null,
            "min_height": null,
            "min_width": null,
            "object_fit": null,
            "object_position": null,
            "order": null,
            "overflow": null,
            "overflow_x": null,
            "overflow_y": null,
            "padding": null,
            "right": null,
            "top": null,
            "visibility": null,
            "width": null
          }
        },
        "2023bc20eca3460b8f21e5638e13446e": {
          "model_module": "@jupyter-widgets/controls",
          "model_name": "ProgressStyleModel",
          "model_module_version": "1.5.0",
          "state": {
            "_model_module": "@jupyter-widgets/controls",
            "_model_module_version": "1.5.0",
            "_model_name": "ProgressStyleModel",
            "_view_count": null,
            "_view_module": "@jupyter-widgets/base",
            "_view_module_version": "1.2.0",
            "_view_name": "StyleView",
            "bar_color": null,
            "description_width": ""
          }
        },
        "b702ccbd5cd643579b534791b9703877": {
          "model_module": "@jupyter-widgets/base",
          "model_name": "LayoutModel",
          "model_module_version": "1.2.0",
          "state": {
            "_model_module": "@jupyter-widgets/base",
            "_model_module_version": "1.2.0",
            "_model_name": "LayoutModel",
            "_view_count": null,
            "_view_module": "@jupyter-widgets/base",
            "_view_module_version": "1.2.0",
            "_view_name": "LayoutView",
            "align_content": null,
            "align_items": null,
            "align_self": null,
            "border": null,
            "bottom": null,
            "display": null,
            "flex": null,
            "flex_flow": null,
            "grid_area": null,
            "grid_auto_columns": null,
            "grid_auto_flow": null,
            "grid_auto_rows": null,
            "grid_column": null,
            "grid_gap": null,
            "grid_row": null,
            "grid_template_areas": null,
            "grid_template_columns": null,
            "grid_template_rows": null,
            "height": null,
            "justify_content": null,
            "justify_items": null,
            "left": null,
            "margin": null,
            "max_height": null,
            "max_width": null,
            "min_height": null,
            "min_width": null,
            "object_fit": null,
            "object_position": null,
            "order": null,
            "overflow": null,
            "overflow_x": null,
            "overflow_y": null,
            "padding": null,
            "right": null,
            "top": null,
            "visibility": null,
            "width": null
          }
        },
        "5ab080ca0bc74331ad7c5f259a893659": {
          "model_module": "@jupyter-widgets/controls",
          "model_name": "DescriptionStyleModel",
          "model_module_version": "1.5.0",
          "state": {
            "_model_module": "@jupyter-widgets/controls",
            "_model_module_version": "1.5.0",
            "_model_name": "DescriptionStyleModel",
            "_view_count": null,
            "_view_module": "@jupyter-widgets/base",
            "_view_module_version": "1.2.0",
            "_view_name": "StyleView",
            "description_width": ""
          }
        }
      }
    }
  },
  "cells": [
    {
      "cell_type": "markdown",
      "source": [
        "**EC9640 - Artificial Intelligence Project**(2020/E/031,2020/E/076)\n",
        "\n",
        "> Grammar checker for Tamil\n",
        "\n",
        "\n",
        "1.   Word Order Issues\n",
        "\n",
        "\n"
      ],
      "metadata": {
        "id": "A5D67OREyw02"
      }
    },
    {
      "cell_type": "code",
      "source": [
        "# 1.Word Order Issues\n",
        "\n",
        "!pip install stanza\n",
        "import stanza\n",
        "stanza.download('ta')"
      ],
      "metadata": {
        "colab": {
          "base_uri": "https://localhost:8080/",
          "height": 466,
          "referenced_widgets": [
            "44d134da680d4dd09438d5fc5458f899",
            "838dd2ec01814a31b7c39ec6d3c649c0",
            "53f2162d1cb84174b54794dbcfbf66f3",
            "2cf8acf6b76749ca9eb993c2bbdbb70a",
            "5fc2de28ab0c4d10bfd8cfdb0f31d3d6",
            "2dc56390abbe4d40856677f717b5125a",
            "2398aadf81b5497e9630c2ffcd6c5341",
            "8528ddecdd294fca904bb541920aef21",
            "2023bc20eca3460b8f21e5638e13446e",
            "b702ccbd5cd643579b534791b9703877",
            "5ab080ca0bc74331ad7c5f259a893659"
          ]
        },
        "id": "wsjwPh6Jqy_z",
        "outputId": "5aa5212a-e53a-4109-ac6a-91d43d3b0fb9"
      },
      "execution_count": 39,
      "outputs": [
        {
          "output_type": "stream",
          "name": "stdout",
          "text": [
            "Requirement already satisfied: stanza in /usr/local/lib/python3.10/dist-packages (1.10.1)\n",
            "Requirement already satisfied: emoji in /usr/local/lib/python3.10/dist-packages (from stanza) (2.14.0)\n",
            "Requirement already satisfied: numpy in /usr/local/lib/python3.10/dist-packages (from stanza) (1.26.4)\n",
            "Requirement already satisfied: protobuf>=3.15.0 in /usr/local/lib/python3.10/dist-packages (from stanza) (4.25.5)\n",
            "Requirement already satisfied: requests in /usr/local/lib/python3.10/dist-packages (from stanza) (2.32.3)\n",
            "Requirement already satisfied: networkx in /usr/local/lib/python3.10/dist-packages (from stanza) (3.4.2)\n",
            "Requirement already satisfied: tomli in /usr/local/lib/python3.10/dist-packages (from stanza) (2.2.1)\n",
            "Requirement already satisfied: torch>=1.3.0 in /usr/local/lib/python3.10/dist-packages (from stanza) (2.5.1+cu121)\n",
            "Requirement already satisfied: tqdm in /usr/local/lib/python3.10/dist-packages (from stanza) (4.67.1)\n",
            "Requirement already satisfied: filelock in /usr/local/lib/python3.10/dist-packages (from torch>=1.3.0->stanza) (3.16.1)\n",
            "Requirement already satisfied: typing-extensions>=4.8.0 in /usr/local/lib/python3.10/dist-packages (from torch>=1.3.0->stanza) (4.12.2)\n",
            "Requirement already satisfied: jinja2 in /usr/local/lib/python3.10/dist-packages (from torch>=1.3.0->stanza) (3.1.4)\n",
            "Requirement already satisfied: fsspec in /usr/local/lib/python3.10/dist-packages (from torch>=1.3.0->stanza) (2024.10.0)\n",
            "Requirement already satisfied: sympy==1.13.1 in /usr/local/lib/python3.10/dist-packages (from torch>=1.3.0->stanza) (1.13.1)\n",
            "Requirement already satisfied: mpmath<1.4,>=1.1.0 in /usr/local/lib/python3.10/dist-packages (from sympy==1.13.1->torch>=1.3.0->stanza) (1.3.0)\n",
            "Requirement already satisfied: charset-normalizer<4,>=2 in /usr/local/lib/python3.10/dist-packages (from requests->stanza) (3.4.0)\n",
            "Requirement already satisfied: idna<4,>=2.5 in /usr/local/lib/python3.10/dist-packages (from requests->stanza) (3.10)\n",
            "Requirement already satisfied: urllib3<3,>=1.21.1 in /usr/local/lib/python3.10/dist-packages (from requests->stanza) (2.2.3)\n",
            "Requirement already satisfied: certifi>=2017.4.17 in /usr/local/lib/python3.10/dist-packages (from requests->stanza) (2024.12.14)\n",
            "Requirement already satisfied: MarkupSafe>=2.0 in /usr/local/lib/python3.10/dist-packages (from jinja2->torch>=1.3.0->stanza) (3.0.2)\n"
          ]
        },
        {
          "output_type": "display_data",
          "data": {
            "text/plain": [
              "Downloading https://raw.githubusercontent.com/stanfordnlp/stanza-resources/main/resources_1.10.0.json:   0%|  …"
            ],
            "application/vnd.jupyter.widget-view+json": {
              "version_major": 2,
              "version_minor": 0,
              "model_id": "44d134da680d4dd09438d5fc5458f899"
            }
          },
          "metadata": {}
        },
        {
          "output_type": "stream",
          "name": "stderr",
          "text": [
            "INFO:stanza:Downloaded file to /root/stanza_resources/resources.json\n",
            "INFO:stanza:Downloading default packages for language: ta (Tamil) ...\n",
            "INFO:stanza:File exists: /root/stanza_resources/ta/default.zip\n",
            "INFO:stanza:Finished downloading models and saved to /root/stanza_resources\n"
          ]
        }
      ]
    },
    {
      "cell_type": "code",
      "source": [
        "# Define word categories\n",
        "subjects = [\"நான்\", \"நாம்\", \"நாங்கள்\", \"அவன்\", \"அவள்\", \"அவர்கள்\", \"அது\", \"நீ\", \"நீங்கள்\"]\n",
        "objects = [\"வேலை\", \"பாட்டு\", \"புத்தகம்\"]\n",
        "verbs = [\"சென்றேன்\", \"படித்தேன்\", \"வாங்கினேன்\", \"செய்தேன்\", \"பாடினேன்\",\n",
        "         \"சென்றோம்\", \"படித்தோம்\", \"வாங்கினோம்\", \"செய்தோம்\", \"பாடினோம்\",\n",
        "         \"சென்றோம்\", \"படித்தோம்\", \"வாங்கினோம்\", \"செய்தோம்\", \"பாடினோம்\",\n",
        "         \"சென்றான்\", \"படித்தான்\", \"வாங்கினான்\", \"செய்தான்\", \"பாடினான்\",\n",
        "         \"சென்றாள்\", \"படித்தாள்\", \"வாங்கினாள்\", \"செய்தாள்\", \"பாடினாள்\",\n",
        "         \"சென்றார்கள்\", \"படித்தார்கள்\", \"வாங்கினார்கள்\", \"செய்தார்கள்\", \"பாடினார்கள்\",\n",
        "         \"சென்றது\", \"படித்தது\", \"வாங்கியது\", \"செய்தது\",\n",
        "         \"பாடியது\",\"சென்றாய்\", \"படித்தாய்\", \"வாங்கினாய்\", \"செய்தாய்\", \"பாடினாய்\",\n",
        "         \"சென்றீர்கள்\", \"படித்தீர்கள்\", \"வாங்கினீர்கள்\", \"செய்தீர்கள்\", \"பாடினீர்கள்\"\n",
        "         ]\n"
      ],
      "metadata": {
        "id": "wTRuBw5BqiYG"
      },
      "execution_count": 40,
      "outputs": []
    },
    {
      "cell_type": "code",
      "source": [
        "\n",
        "def identify_word_category(word):\n",
        "    \"\"\"Identify the category of a word (subject, object, verb).\"\"\"\n",
        "    if word in subjects:\n",
        "        return 1  # Subject\n",
        "    elif word in objects:\n",
        "        return 2  # Object\n",
        "    elif word in verbs:\n",
        "        return 3  # Verb\n",
        "    return None  # Unknown category\n",
        "\n",
        "def rearrange_to_sov(sentence):\n",
        "    \"\"\"Rearrange words in the sentence to follow SOV structure.\"\"\"\n",
        "    words = sentence.split()\n",
        "    categorized_words = [(identify_word_category(word), word) for word in words]\n",
        "\n",
        "    # Separate words by category\n",
        "    subjects_words = [word for category, word in categorized_words if category == 1]\n",
        "    objects_words = [word for category, word in categorized_words if category == 2]\n",
        "    verbs_words = [word for category, word in categorized_words if category == 3]\n",
        "\n",
        "    # Rearrange in SOV order\n",
        "    corrected_sentence = \" \".join(subjects_words + objects_words + verbs_words)\n",
        "    return corrected_sentence\n",
        "\n",
        "def check_and_suggest_sentence(sentence):\n",
        "    \"\"\"Check sentence structure and suggest corrections.\"\"\"\n",
        "    corrected_sentence = rearrange_to_sov(sentence)\n",
        "    if corrected_sentence != sentence:\n",
        "        print(\"Issue: Word order issue\")\n",
        "        print(\"Suggested sentence:\", corrected_sentence)\n",
        "    else:\n",
        "        print(\"Issue: No sentence error\")\n",
        "        print(\"Suggested sentence:\", sentence)\n"
      ],
      "metadata": {
        "id": "MwBY9T7_JHTg"
      },
      "execution_count": 41,
      "outputs": []
    },
    {
      "cell_type": "code",
      "source": [
        "# User Interface\n",
        "for _ in range(1):\n",
        "    user_sentence = input(\"Enter the sentence: \")\n",
        "    check_and_suggest_sentence(user_sentence)\n",
        "    print(\"-\")"
      ],
      "metadata": {
        "colab": {
          "base_uri": "https://localhost:8080/"
        },
        "id": "QlxeUD37JbjA",
        "outputId": "3b08b4a0-cb49-4cdb-9083-24fd02bc5649"
      },
      "execution_count": 43,
      "outputs": [
        {
          "output_type": "stream",
          "name": "stdout",
          "text": [
            "Enter the sentence: வாங்கினாள் அவள் புத்தகம்\n",
            "Issue: Word order issue\n",
            "Suggested sentence: அவள் புத்தகம் வாங்கினாள்\n",
            "-\n"
          ]
        }
      ]
    }
  ]
}