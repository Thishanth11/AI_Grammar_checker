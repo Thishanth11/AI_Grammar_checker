{
  "nbformat": 4,
  "nbformat_minor": 0,
  "metadata": {
    "colab": {
      "provenance": []
    },
    "kernelspec": {
      "name": "python3",
      "display_name": "Python 3"
    },
    "language_info": {
      "name": "python"
    }
  },
  "cells": [
    {
      "cell_type": "markdown",
      "source": [
        "**EC9640 - Artificial Intelligence Project**(2020/E/031,2020/E/076)\n",
        "\n",
        "> Grammar checker for Tamil\n",
        "\n",
        "\n",
        "2. Subject-Verb Agreement Errors"
      ],
      "metadata": {
        "id": "ledRKcmkNCPD"
      }
    },
    {
      "cell_type": "code",
      "source": [
        "# Required datasets\n",
        "subjects =  [\"நான்\", \"நாம்\", \"நாங்கள்\", \"அவன்\", \"அவள்\", \"அவர்கள்\", \"அது\", \"நீ\", \"நீங்கள்\"]\n",
        "objects = [\"வேலை\", \"பாட்டு\", \"புத்தகம்\"]\n",
        "verbs = [\"சென்றேன்\", \"படித்தேன்\", \"வாங்கினேன்\", \"செய்தேன்\", \"பாடினேன்\",\n",
        "         \"சென்றோம்\", \"படித்தோம்\", \"வாங்கினோம்\", \"செய்தோம்\", \"பாடினோம்\",\n",
        "         \"சென்றான்\", \"படித்தான்\", \"வாங்கினான்\", \"செய்தான்\", \"பாடினான்\",\n",
        "         \"சென்றாள்\", \"படித்தாள்\", \"வாங்கினாள்\", \"செய்தாள்\", \"பாடினாள்\",\n",
        "         \"சென்றார்கள்\", \"படித்தார்கள்\", \"வாங்கினார்கள்\", \"செய்தார்கள்\", \"பாடினார்கள்\",\n",
        "         \"சென்றது\", \"படித்தது\", \"வாங்கியது\", \"செய்தது\",\"பாடியது\",\n",
        "         \"சென்றாய்\", \"படித்தாய்\", \"வாங்கினாய்\", \"செய்தாய்\", \"பாடினாய்\",\n",
        "         \"சென்றீர்கள்\", \"படித்தீர்கள்\", \"வாங்கினீர்கள்\", \"செய்தீர்கள்\", \"பாடினீர்கள்\"\n",
        "         ]\n",
        "main_verb = [\"சென்\",\"படி\",\"வாங்கி\",\"செய்\",\"பாடி\"]\n",
        "sup_verb = {\n",
        "    \"நான்\": [\"றேன்\",\"த்தேன்\",\"னேன்\",\"தேன்\",\"னேன்\"],\n",
        "    \"நாம்\": [\"றோம்\",\"த்தோம்\",\"னோம்\",\"தோம்\",\"னோம்\"],\n",
        "    \"நாங்கள்\": [\"றோம்\",\"த்தோம்\",\"னோம்\",\"தோம்\",\"னோம்\"],\n",
        "    \"அவன்\": [\"றான்\", \"த்தான்\", \"னான்\", \"தான்\", \"னான்\"],\n",
        "    \"அவள்\": [\"றாள்\", \"த்தாள்\", \"கினாள்\", \"தாள்\", \"னாள்\"],\n",
        "    \"அவர்கள்\": [ \"றார்கள்\", \"த்தார்கள்\", \"னார்கள்\", \"தார்கள்\", \"னார்கள்\"],\n",
        "    \"அது\": [ \"றது\", \"த்தது\", \"யது\", \"தது\",\"யது\"],\n",
        "    \"நீ\": [\"றாய்\", \"த்தாய்\", \"னாய்\", \"தாய்\", \"னாய்\"],\n",
        "    \"நீங்கள்\":[\"றீர்கள்\", \"த்தீர்கள்\", \"னீர்கள்\", \"தீர்கள்\", \"னீர்கள்\"]\n",
        "    }"
      ],
      "metadata": {
        "id": "tSsONRLqqKGh"
      },
      "execution_count": 14,
      "outputs": []
    },
    {
      "cell_type": "code",
      "source": [
        "import re\n",
        "\n",
        "# Function to split the sentence into parts\n",
        "def split_sentence(sentence):\n",
        "    words = sentence.split()\n",
        "    subject, obj, verb = None, None, None\n",
        "    for word in words:\n",
        "        if word in subjects:\n",
        "            subject = word\n",
        "        elif word in objects:\n",
        "            obj = word\n",
        "        elif word in verbs:\n",
        "            verb = word\n",
        "    return subject, obj, verb\n",
        "\n",
        "# Function to split verb into main and support parts\n",
        "def split_verb(verb):\n",
        "    for main in main_verb:\n",
        "        if verb.startswith(main):\n",
        "            sup = verb[len(main):]\n",
        "            return main, sup\n",
        "    return None, None\n",
        "\n",
        "# Function to check Subject-Verb Agreement\n",
        "def check_subject_verb_agreement(sentence):\n",
        "    subject, obj, verb = split_sentence(sentence)\n",
        "    if not subject or not verb:\n",
        "        return \"Invalid sentence structure.\"\n",
        "\n",
        "    main, sup = split_verb(verb)\n",
        "    if not main or not sup:\n",
        "        return \"Invalid verb structure.\"\n",
        "\n",
        "    # Iteratively check and correct the verb\n",
        "    sup_list = sup_verb.get(subject, [])\n",
        "    for sup_candidate in sup_list:\n",
        "        corrected_verb = main + sup_candidate\n",
        "        if corrected_verb in verbs:\n",
        "            if corrected_verb == verb:\n",
        "                return \"no Subject-Verb Agreement Errors\", sentence\n",
        "            else:\n",
        "                corrected_sentence = f\"{subject} {obj} {corrected_verb}\"\n",
        "                return \"Subject-Verb Agreement Errors\", corrected_sentence\n",
        "\n",
        "    return \"Unable to correct the verb.\", sentence\n",
        "\n"
      ],
      "metadata": {
        "id": "EbrsQcsXkzfz"
      },
      "execution_count": 15,
      "outputs": []
    },
    {
      "cell_type": "code",
      "source": [
        "# User interface\n",
        "for _ in range(1):\n",
        "    sentence = input(\"Enter the sentence: \")\n",
        "    result, suggestion = check_subject_verb_agreement(sentence)\n",
        "    print(f\"Error: {result}\")\n",
        "    print(f\"Suggested output: {suggestion}\")\n"
      ],
      "metadata": {
        "colab": {
          "base_uri": "https://localhost:8080/"
        },
        "id": "6LLHRn5XqE-K",
        "outputId": "831947b0-371b-48f9-89da-cad39cc1ecdd"
      },
      "execution_count": 17,
      "outputs": [
        {
          "output_type": "stream",
          "name": "stdout",
          "text": [
            "Enter the sentence: அது பாட்டு படித்தாள்\n",
            "Error: Subject-Verb Agreement Errors\n",
            "Suggested output: அது பாட்டு படித்தது\n"
          ]
        }
      ]
    }
  ]
}