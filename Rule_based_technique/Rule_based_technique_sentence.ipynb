{
  "nbformat": 4,
  "nbformat_minor": 0,
  "metadata": {
    "colab": {
      "provenance": []
    },
    "kernelspec": {
      "name": "python3",
      "display_name": "Python 3"
    },
    "language_info": {
      "name": "python"
    },
    "widgets": {
      "application/vnd.jupyter.widget-state+json": {
        "033bc115d4664319b5a2078881adcf1f": {
          "model_module": "@jupyter-widgets/controls",
          "model_name": "HBoxModel",
          "model_module_version": "1.5.0",
          "state": {
            "_dom_classes": [],
            "_model_module": "@jupyter-widgets/controls",
            "_model_module_version": "1.5.0",
            "_model_name": "HBoxModel",
            "_view_count": null,
            "_view_module": "@jupyter-widgets/controls",
            "_view_module_version": "1.5.0",
            "_view_name": "HBoxView",
            "box_style": "",
            "children": [
              "IPY_MODEL_6b8c3cab3fee46ccbc1183b61834e6fa",
              "IPY_MODEL_56182374ad914b108171c7b65922b06c",
              "IPY_MODEL_db62062c3ff34e4297377c9aa23a6e37"
            ],
            "layout": "IPY_MODEL_6c83193967824753a6697d39ebe73cd0"
          }
        },
        "6b8c3cab3fee46ccbc1183b61834e6fa": {
          "model_module": "@jupyter-widgets/controls",
          "model_name": "HTMLModel",
          "model_module_version": "1.5.0",
          "state": {
            "_dom_classes": [],
            "_model_module": "@jupyter-widgets/controls",
            "_model_module_version": "1.5.0",
            "_model_name": "HTMLModel",
            "_view_count": null,
            "_view_module": "@jupyter-widgets/controls",
            "_view_module_version": "1.5.0",
            "_view_name": "HTMLView",
            "description": "",
            "description_tooltip": null,
            "layout": "IPY_MODEL_15ec52ee04e04b7d88f69f1153dce98b",
            "placeholder": "​",
            "style": "IPY_MODEL_6e2eb4698c874808bc70130e3ca33c02",
            "value": "Downloading https://raw.githubusercontent.com/stanfordnlp/stanza-resources/main/resources_1.10.0.json: "
          }
        },
        "56182374ad914b108171c7b65922b06c": {
          "model_module": "@jupyter-widgets/controls",
          "model_name": "FloatProgressModel",
          "model_module_version": "1.5.0",
          "state": {
            "_dom_classes": [],
            "_model_module": "@jupyter-widgets/controls",
            "_model_module_version": "1.5.0",
            "_model_name": "FloatProgressModel",
            "_view_count": null,
            "_view_module": "@jupyter-widgets/controls",
            "_view_module_version": "1.5.0",
            "_view_name": "ProgressView",
            "bar_style": "success",
            "description": "",
            "description_tooltip": null,
            "layout": "IPY_MODEL_baf4bd16615343c09d4321d38b43252a",
            "max": 52297,
            "min": 0,
            "orientation": "horizontal",
            "style": "IPY_MODEL_4663e0fc625544ccaf328cd52c211158",
            "value": 52297
          }
        },
        "db62062c3ff34e4297377c9aa23a6e37": {
          "model_module": "@jupyter-widgets/controls",
          "model_name": "HTMLModel",
          "model_module_version": "1.5.0",
          "state": {
            "_dom_classes": [],
            "_model_module": "@jupyter-widgets/controls",
            "_model_module_version": "1.5.0",
            "_model_name": "HTMLModel",
            "_view_count": null,
            "_view_module": "@jupyter-widgets/controls",
            "_view_module_version": "1.5.0",
            "_view_name": "HTMLView",
            "description": "",
            "description_tooltip": null,
            "layout": "IPY_MODEL_44c7c35989394a26b4b7bf680bda7747",
            "placeholder": "​",
            "style": "IPY_MODEL_5341df43bc5b4278a8c626b3cf353ff3",
            "value": " 421k/? [00:00&lt;00:00, 11.9MB/s]"
          }
        },
        "6c83193967824753a6697d39ebe73cd0": {
          "model_module": "@jupyter-widgets/base",
          "model_name": "LayoutModel",
          "model_module_version": "1.2.0",
          "state": {
            "_model_module": "@jupyter-widgets/base",
            "_model_module_version": "1.2.0",
            "_model_name": "LayoutModel",
            "_view_count": null,
            "_view_module": "@jupyter-widgets/base",
            "_view_module_version": "1.2.0",
            "_view_name": "LayoutView",
            "align_content": null,
            "align_items": null,
            "align_self": null,
            "border": null,
            "bottom": null,
            "display": null,
            "flex": null,
            "flex_flow": null,
            "grid_area": null,
            "grid_auto_columns": null,
            "grid_auto_flow": null,
            "grid_auto_rows": null,
            "grid_column": null,
            "grid_gap": null,
            "grid_row": null,
            "grid_template_areas": null,
            "grid_template_columns": null,
            "grid_template_rows": null,
            "height": null,
            "justify_content": null,
            "justify_items": null,
            "left": null,
            "margin": null,
            "max_height": null,
            "max_width": null,
            "min_height": null,
            "min_width": null,
            "object_fit": null,
            "object_position": null,
            "order": null,
            "overflow": null,
            "overflow_x": null,
            "overflow_y": null,
            "padding": null,
            "right": null,
            "top": null,
            "visibility": null,
            "width": null
          }
        },
        "15ec52ee04e04b7d88f69f1153dce98b": {
          "model_module": "@jupyter-widgets/base",
          "model_name": "LayoutModel",
          "model_module_version": "1.2.0",
          "state": {
            "_model_module": "@jupyter-widgets/base",
            "_model_module_version": "1.2.0",
            "_model_name": "LayoutModel",
            "_view_count": null,
            "_view_module": "@jupyter-widgets/base",
            "_view_module_version": "1.2.0",
            "_view_name": "LayoutView",
            "align_content": null,
            "align_items": null,
            "align_self": null,
            "border": null,
            "bottom": null,
            "display": null,
            "flex": null,
            "flex_flow": null,
            "grid_area": null,
            "grid_auto_columns": null,
            "grid_auto_flow": null,
            "grid_auto_rows": null,
            "grid_column": null,
            "grid_gap": null,
            "grid_row": null,
            "grid_template_areas": null,
            "grid_template_columns": null,
            "grid_template_rows": null,
            "height": null,
            "justify_content": null,
            "justify_items": null,
            "left": null,
            "margin": null,
            "max_height": null,
            "max_width": null,
            "min_height": null,
            "min_width": null,
            "object_fit": null,
            "object_position": null,
            "order": null,
            "overflow": null,
            "overflow_x": null,
            "overflow_y": null,
            "padding": null,
            "right": null,
            "top": null,
            "visibility": null,
            "width": null
          }
        },
        "6e2eb4698c874808bc70130e3ca33c02": {
          "model_module": "@jupyter-widgets/controls",
          "model_name": "DescriptionStyleModel",
          "model_module_version": "1.5.0",
          "state": {
            "_model_module": "@jupyter-widgets/controls",
            "_model_module_version": "1.5.0",
            "_model_name": "DescriptionStyleModel",
            "_view_count": null,
            "_view_module": "@jupyter-widgets/base",
            "_view_module_version": "1.2.0",
            "_view_name": "StyleView",
            "description_width": ""
          }
        },
        "baf4bd16615343c09d4321d38b43252a": {
          "model_module": "@jupyter-widgets/base",
          "model_name": "LayoutModel",
          "model_module_version": "1.2.0",
          "state": {
            "_model_module": "@jupyter-widgets/base",
            "_model_module_version": "1.2.0",
            "_model_name": "LayoutModel",
            "_view_count": null,
            "_view_module": "@jupyter-widgets/base",
            "_view_module_version": "1.2.0",
            "_view_name": "LayoutView",
            "align_content": null,
            "align_items": null,
            "align_self": null,
            "border": null,
            "bottom": null,
            "display": null,
            "flex": null,
            "flex_flow": null,
            "grid_area": null,
            "grid_auto_columns": null,
            "grid_auto_flow": null,
            "grid_auto_rows": null,
            "grid_column": null,
            "grid_gap": null,
            "grid_row": null,
            "grid_template_areas": null,
            "grid_template_columns": null,
            "grid_template_rows": null,
            "height": null,
            "justify_content": null,
            "justify_items": null,
            "left": null,
            "margin": null,
            "max_height": null,
            "max_width": null,
            "min_height": null,
            "min_width": null,
            "object_fit": null,
            "object_position": null,
            "order": null,
            "overflow": null,
            "overflow_x": null,
            "overflow_y": null,
            "padding": null,
            "right": null,
            "top": null,
            "visibility": null,
            "width": null
          }
        },
        "4663e0fc625544ccaf328cd52c211158": {
          "model_module": "@jupyter-widgets/controls",
          "model_name": "ProgressStyleModel",
          "model_module_version": "1.5.0",
          "state": {
            "_model_module": "@jupyter-widgets/controls",
            "_model_module_version": "1.5.0",
            "_model_name": "ProgressStyleModel",
            "_view_count": null,
            "_view_module": "@jupyter-widgets/base",
            "_view_module_version": "1.2.0",
            "_view_name": "StyleView",
            "bar_color": null,
            "description_width": ""
          }
        },
        "44c7c35989394a26b4b7bf680bda7747": {
          "model_module": "@jupyter-widgets/base",
          "model_name": "LayoutModel",
          "model_module_version": "1.2.0",
          "state": {
            "_model_module": "@jupyter-widgets/base",
            "_model_module_version": "1.2.0",
            "_model_name": "LayoutModel",
            "_view_count": null,
            "_view_module": "@jupyter-widgets/base",
            "_view_module_version": "1.2.0",
            "_view_name": "LayoutView",
            "align_content": null,
            "align_items": null,
            "align_self": null,
            "border": null,
            "bottom": null,
            "display": null,
            "flex": null,
            "flex_flow": null,
            "grid_area": null,
            "grid_auto_columns": null,
            "grid_auto_flow": null,
            "grid_auto_rows": null,
            "grid_column": null,
            "grid_gap": null,
            "grid_row": null,
            "grid_template_areas": null,
            "grid_template_columns": null,
            "grid_template_rows": null,
            "height": null,
            "justify_content": null,
            "justify_items": null,
            "left": null,
            "margin": null,
            "max_height": null,
            "max_width": null,
            "min_height": null,
            "min_width": null,
            "object_fit": null,
            "object_position": null,
            "order": null,
            "overflow": null,
            "overflow_x": null,
            "overflow_y": null,
            "padding": null,
            "right": null,
            "top": null,
            "visibility": null,
            "width": null
          }
        },
        "5341df43bc5b4278a8c626b3cf353ff3": {
          "model_module": "@jupyter-widgets/controls",
          "model_name": "DescriptionStyleModel",
          "model_module_version": "1.5.0",
          "state": {
            "_model_module": "@jupyter-widgets/controls",
            "_model_module_version": "1.5.0",
            "_model_name": "DescriptionStyleModel",
            "_view_count": null,
            "_view_module": "@jupyter-widgets/base",
            "_view_module_version": "1.2.0",
            "_view_name": "StyleView",
            "description_width": ""
          }
        }
      }
    }
  },
  "cells": [
    {
      "cell_type": "markdown",
      "source": [
        "**EC9640 - Artificial Intelligence Project**(2020/E/031,2020/E/076)\n",
        "\n",
        "> Grammar checker for Tamil"
      ],
      "metadata": {
        "id": "MkdlYRRUzEzT"
      }
    },
    {
      "cell_type": "code",
      "source": [
        "#Required libraries\n",
        "!pip install stanza\n",
        "import stanza\n",
        "import re\n",
        "from difflib import get_close_matches\n",
        "\n",
        "# Download and set up Stanza for Tamil language\n",
        "stanza.download('ta')\n"
      ],
      "metadata": {
        "colab": {
          "base_uri": "https://localhost:8080/",
          "height": 466,
          "referenced_widgets": [
            "033bc115d4664319b5a2078881adcf1f",
            "6b8c3cab3fee46ccbc1183b61834e6fa",
            "56182374ad914b108171c7b65922b06c",
            "db62062c3ff34e4297377c9aa23a6e37",
            "6c83193967824753a6697d39ebe73cd0",
            "15ec52ee04e04b7d88f69f1153dce98b",
            "6e2eb4698c874808bc70130e3ca33c02",
            "baf4bd16615343c09d4321d38b43252a",
            "4663e0fc625544ccaf328cd52c211158",
            "44c7c35989394a26b4b7bf680bda7747",
            "5341df43bc5b4278a8c626b3cf353ff3"
          ]
        },
        "id": "91zLixO2roFD",
        "outputId": "e0faa9ac-037f-44c7-8efe-efad6bc68810"
      },
      "execution_count": 5,
      "outputs": [
        {
          "output_type": "stream",
          "name": "stdout",
          "text": [
            "Requirement already satisfied: stanza in /usr/local/lib/python3.10/dist-packages (1.10.1)\n",
            "Requirement already satisfied: emoji in /usr/local/lib/python3.10/dist-packages (from stanza) (2.14.0)\n",
            "Requirement already satisfied: numpy in /usr/local/lib/python3.10/dist-packages (from stanza) (1.26.4)\n",
            "Requirement already satisfied: protobuf>=3.15.0 in /usr/local/lib/python3.10/dist-packages (from stanza) (4.25.5)\n",
            "Requirement already satisfied: requests in /usr/local/lib/python3.10/dist-packages (from stanza) (2.32.3)\n",
            "Requirement already satisfied: networkx in /usr/local/lib/python3.10/dist-packages (from stanza) (3.4.2)\n",
            "Requirement already satisfied: tomli in /usr/local/lib/python3.10/dist-packages (from stanza) (2.2.1)\n",
            "Requirement already satisfied: torch>=1.3.0 in /usr/local/lib/python3.10/dist-packages (from stanza) (2.5.1+cu121)\n",
            "Requirement already satisfied: tqdm in /usr/local/lib/python3.10/dist-packages (from stanza) (4.67.1)\n",
            "Requirement already satisfied: filelock in /usr/local/lib/python3.10/dist-packages (from torch>=1.3.0->stanza) (3.16.1)\n",
            "Requirement already satisfied: typing-extensions>=4.8.0 in /usr/local/lib/python3.10/dist-packages (from torch>=1.3.0->stanza) (4.12.2)\n",
            "Requirement already satisfied: jinja2 in /usr/local/lib/python3.10/dist-packages (from torch>=1.3.0->stanza) (3.1.4)\n",
            "Requirement already satisfied: fsspec in /usr/local/lib/python3.10/dist-packages (from torch>=1.3.0->stanza) (2024.10.0)\n",
            "Requirement already satisfied: sympy==1.13.1 in /usr/local/lib/python3.10/dist-packages (from torch>=1.3.0->stanza) (1.13.1)\n",
            "Requirement already satisfied: mpmath<1.4,>=1.1.0 in /usr/local/lib/python3.10/dist-packages (from sympy==1.13.1->torch>=1.3.0->stanza) (1.3.0)\n",
            "Requirement already satisfied: charset-normalizer<4,>=2 in /usr/local/lib/python3.10/dist-packages (from requests->stanza) (3.4.0)\n",
            "Requirement already satisfied: idna<4,>=2.5 in /usr/local/lib/python3.10/dist-packages (from requests->stanza) (3.10)\n",
            "Requirement already satisfied: urllib3<3,>=1.21.1 in /usr/local/lib/python3.10/dist-packages (from requests->stanza) (2.2.3)\n",
            "Requirement already satisfied: certifi>=2017.4.17 in /usr/local/lib/python3.10/dist-packages (from requests->stanza) (2024.12.14)\n",
            "Requirement already satisfied: MarkupSafe>=2.0 in /usr/local/lib/python3.10/dist-packages (from jinja2->torch>=1.3.0->stanza) (3.0.2)\n"
          ]
        },
        {
          "output_type": "display_data",
          "data": {
            "text/plain": [
              "Downloading https://raw.githubusercontent.com/stanfordnlp/stanza-resources/main/resources_1.10.0.json:   0%|  …"
            ],
            "application/vnd.jupyter.widget-view+json": {
              "version_major": 2,
              "version_minor": 0,
              "model_id": "033bc115d4664319b5a2078881adcf1f"
            }
          },
          "metadata": {}
        },
        {
          "output_type": "stream",
          "name": "stderr",
          "text": [
            "INFO:stanza:Downloaded file to /root/stanza_resources/resources.json\n",
            "INFO:stanza:Downloading default packages for language: ta (Tamil) ...\n",
            "INFO:stanza:File exists: /root/stanza_resources/ta/default.zip\n",
            "INFO:stanza:Finished downloading models and saved to /root/stanza_resources\n"
          ]
        }
      ]
    },
    {
      "cell_type": "code",
      "source": [
        "# Required datasets\n",
        "subjects = [\"நான்\", \"நாம்\", \"நாங்கள்\", \"அவன்\", \"அவள்\", \"அவர்கள்\", \"அது\", \"நீ\", \"நீங்கள்\"]\n",
        "objects = [\"வேலை\", \"பாட்டு\", \"புத்தகம்\"]\n",
        "verbs = [\"சென்றேன்\", \"படித்தேன்\", \"வாங்கினேன்\", \"செய்தேன்\", \"பாடினேன்\",\n",
        "         \"சென்றோம்\", \"படித்தோம்\", \"வாங்கினோம்\", \"செய்தோம்\", \"பாடினோம்\",\n",
        "         \"சென்றான்\", \"படித்தான்\", \"வாங்கினான்\", \"செய்தான்\", \"பாடினான்\",\n",
        "         \"சென்றாள்\", \"படித்தாள்\", \"வாங்கினாள்\", \"செய்தாள்\", \"பாடினாள்\",\n",
        "         \"சென்றார்கள்\", \"படித்தார்கள்\", \"வாங்கினார்கள்\", \"செய்தார்கள்\", \"பாடினார்கள்\",\n",
        "         \"சென்றது\", \"படித்தது\", \"வாங்கியது\", \"செய்தது\", \"பாடியது\",\n",
        "         \"சென்றாய்\", \"படித்தாய்\", \"வாங்கினாய்\", \"செய்தாய்\", \"பாடினாய்\",\n",
        "         \"சென்றீர்கள்\", \"படித்தீர்கள்\", \"வாங்கினீர்கள்\", \"செய்தீர்கள்\", \"பாடினீர்கள்\"]\n",
        "\n",
        "main_verb = [\"சென்\", \"படி\", \"வாங்கி\", \"செய்\", \"பாடி\"]\n",
        "\n",
        "sup_verb = {\n",
        "    \"நான்\": [\"றேன்\", \"த்தேன்\", \"னேன்\", \"தேன்\", \"னேன்\"],\n",
        "    \"நாம்\": [\"றோம்\", \"த்தோம்\", \"னோம்\", \"தோம்\", \"னோம்\"],\n",
        "    \"நாங்கள்\": [\"றோம்\", \"த்தோம்\", \"னோம்\", \"தோம்\", \"னோம்\"],\n",
        "    \"அவன்\": [\"றான்\", \"த்தான்\", \"னான்\", \"தான்\", \"னான்\"],\n",
        "    \"அவள்\": [\"றாள்\", \"த்தாள்\", \"கினாள்\", \"தாள்\", \"னாள்\"],\n",
        "    \"அவர்கள்\": [\"றார்கள்\", \"த்தார்கள்\", \"னார்கள்\", \"தார்கள்\", \"னார்கள்\"],\n",
        "    \"அது\": [\"றது\", \"த்தது\", \"யது\", \"தது\", \"யது\"],\n",
        "    \"நீ\": [\"றாய்\", \"த்தாய்\", \"னாய்\", \"தாய்\", \"னாய்\"],\n",
        "    \"நீங்கள்\": [\"றீர்கள்\", \"த்தீர்கள்\", \"னீர்கள்\", \"தீர்கள்\", \"னீர்கள்\"]\n",
        "}\n"
      ],
      "metadata": {
        "id": "-20TAzWBrlJj"
      },
      "execution_count": 6,
      "outputs": []
    },
    {
      "cell_type": "code",
      "source": [
        "# Function to identify word category (Subject, Object, Verb)\n",
        "def identify_word_category(word):\n",
        "    \"\"\"Identify the category of a word (subject, object, verb).\"\"\"\n",
        "    if word in subjects:\n",
        "        return 1  # Subject\n",
        "    elif word in objects:\n",
        "        return 2  # Object\n",
        "    elif word in verbs:\n",
        "        return 3  # Verb\n",
        "    return None  # Unknown category\n"
      ],
      "metadata": {
        "id": "X2xrqhkKwexa"
      },
      "execution_count": 10,
      "outputs": []
    },
    {
      "cell_type": "code",
      "source": [
        "# Function to rearrange words to SOV structure\n",
        "def rearrange_to_sov(sentence):\n",
        "    \"\"\"Rearrange words in the sentence to follow SOV structure.\"\"\"\n",
        "    words = sentence.split()\n",
        "    categorized_words = [(identify_word_category(word), word) for word in words]\n",
        "\n",
        "    # Separate words by category\n",
        "    subjects_words = [word for category, word in categorized_words if category == 1]\n",
        "    objects_words = [word for category, word in categorized_words if category == 2]\n",
        "    verbs_words = [word for category, word in categorized_words if category == 3]\n",
        "\n",
        "    # Rearrange in SOV order\n",
        "    corrected_sentence = \" \".join(subjects_words + objects_words + verbs_words)\n",
        "    return corrected_sentence"
      ],
      "metadata": {
        "id": "2ZG_VDvGwhCq"
      },
      "execution_count": 11,
      "outputs": []
    },
    {
      "cell_type": "code",
      "source": [
        "# Function to check and suggest corrections for Word Order Issues\n",
        "def check_word_order(sentence):\n",
        "    \"\"\"Check sentence structure for Word Order issues and suggest corrections.\"\"\"\n",
        "    corrected_sentence = rearrange_to_sov(sentence)\n",
        "    if corrected_sentence != sentence:\n",
        "        return f\"Word Order Issue, Suggested sentence: {corrected_sentence}\"\n",
        "    return \"No Word Order Issue\""
      ],
      "metadata": {
        "id": "lJaRkamBwm0C"
      },
      "execution_count": 20,
      "outputs": []
    },
    {
      "cell_type": "code",
      "source": [
        "# Function to split the sentence into parts (Subject, Object, Verb)\n",
        "def split_sentence(sentence):\n",
        "    words = sentence.split()\n",
        "    subject, obj, verb = None, None, None\n",
        "    for word in words:\n",
        "        if word in subjects:\n",
        "            subject = word\n",
        "        elif word in objects:\n",
        "            obj = word\n",
        "        elif word in verbs:\n",
        "            verb = word\n",
        "    return subject, obj, verb\n"
      ],
      "metadata": {
        "id": "mqo7SHaCwrRq"
      },
      "execution_count": 21,
      "outputs": []
    },
    {
      "cell_type": "code",
      "source": [
        "# Function to split verb into main and support parts\n",
        "def split_verb(verb):\n",
        "    for main in main_verb:\n",
        "        if verb.startswith(main):\n",
        "            sup = verb[len(main):]\n",
        "            return main, sup\n",
        "    return None, Non"
      ],
      "metadata": {
        "id": "ub65zNlAwtrS"
      },
      "execution_count": 22,
      "outputs": []
    },
    {
      "cell_type": "code",
      "source": [
        "# Function to check Subject-Verb Agreement and suggest corrections\n",
        "def check_subject_verb_agreement(sentence):\n",
        "    subject, obj, verb = split_sentence(sentence)\n",
        "    if not subject or not verb:\n",
        "        return \"Invalid sentence structure.\"\n",
        "\n",
        "    main, sup = split_verb(verb)\n",
        "    if not main or not sup:\n",
        "        return \"Invalid verb structure.\"\n",
        "\n",
        "    sup_list = sup_verb.get(subject, [])\n",
        "    for sup_candidate in sup_list:\n",
        "        corrected_verb = main + sup_candidate\n",
        "        if corrected_verb in verbs:\n",
        "            if corrected_verb == verb:\n",
        "                return \"No Subject-Verb Agreement Errors\"\n",
        "            else:\n",
        "                corrected_sentence = f\"{subject} {obj} {corrected_verb}\"\n",
        "                return f\"Subject-Verb Agreement Error, Suggested sentence: {corrected_sentence}\"\n",
        "\n",
        "    return \"Unable to correct the verb.\""
      ],
      "metadata": {
        "id": "wH2Oius5w6_z"
      },
      "execution_count": 23,
      "outputs": []
    },
    {
      "cell_type": "code",
      "execution_count": 24,
      "metadata": {
        "id": "EO66N1b4oduO"
      },
      "outputs": [],
      "source": [
        "# Combined function for checking both Word Order and Subject-Verb Agreement Errors\n",
        "def check_grammar(sentence):\n",
        "    word_order_result = check_word_order(sentence)\n",
        "    subject_verb_result = check_subject_verb_agreement(sentence)\n",
        "\n",
        "    # Combine results\n",
        "    return word_order_result, subject_verb_result"
      ]
    },
    {
      "cell_type": "code",
      "source": [
        "# User Interface\n",
        "for _ in range(1):\n",
        "    user_sentence = input(\"Enter the sentence: \")\n",
        "    word_order_result, subject_verb_result = check_grammar(user_sentence)\n",
        "    print(word_order_result)\n",
        "    print(subject_verb_result)\n",
        "    print(\"-\")"
      ],
      "metadata": {
        "colab": {
          "base_uri": "https://localhost:8080/"
        },
        "id": "nwXNxyyyrduS",
        "outputId": "108fc4aa-e2e7-4457-a89c-8d983c5ecfe1"
      },
      "execution_count": 25,
      "outputs": [
        {
          "output_type": "stream",
          "name": "stdout",
          "text": [
            "Enter the sentence: அவள் வேலை வாங்கினீர்கள்\n",
            "No Word Order Issue\n",
            "Subject-Verb Agreement Error, Suggested sentence: அவள் வேலை வாங்கினாள்\n",
            "-\n"
          ]
        }
      ]
    }
  ]
}